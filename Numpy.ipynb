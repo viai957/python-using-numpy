{
 "cells": [
  {
   "cell_type": "code",
   "execution_count": 2,
   "metadata": {},
   "outputs": [
    {
     "data": {
      "text/plain": [
       "'1.14.2'"
      ]
     },
     "execution_count": 2,
     "metadata": {},
     "output_type": "execute_result"
    }
   ],
   "source": [
    "import numpy\n",
    "numpy.__version__"
   ]
  },
  {
   "cell_type": "code",
   "execution_count": 3,
   "metadata": {},
   "outputs": [],
   "source": [
    "import numpy as np"
   ]
  },
  {
   "cell_type": "markdown",
   "metadata": {},
   "source": [
    "For the pieces of the package discussed here, I'd recommend NumPy version 1.8 or later. By convention, you'll find that most people in the SciPy/PyData world will import NumPy using np as an alias:"
   ]
  },
  {
   "cell_type": "markdown",
   "metadata": {},
   "source": [
    "# Built In Documentation"
   ]
  },
  {
   "cell_type": "markdown",
   "metadata": {},
   "source": [
    "IPython gives you the ability to quickly explore the contents of a package (by using the tab-completion feature), as well as the documentation of various functions (using the ? character – Refer back to Help and Documentation in IPython)."
   ]
  },
  {
   "cell_type": "markdown",
   "metadata": {},
   "source": [
    "To display all the contents of the numpy namespace, you can type this:"
   ]
  },
  {
   "cell_type": "code",
   "execution_count": 5,
   "metadata": {},
   "outputs": [],
   "source": [
    " np?"
   ]
  },
  {
   "cell_type": "markdown",
   "metadata": {},
   "source": [
    "Users of Python are often drawn-in by its ease of use, one piece of which is dynamic typing. While a statically-typed language like C or Java requires each variable to be explicitly declared, a dynamically-typed language like Python skips this specification. For example, in C you might specify a particular operation as follows:"
   ]
  },
  {
   "cell_type": "raw",
   "metadata": {},
   "source": [
    "/* C code */\n",
    "int result = 0;\n",
    "for(int i=0; i<100; i++){\n",
    "    result += i;\n",
    "}"
   ]
  },
  {
   "cell_type": "markdown",
   "metadata": {},
   "source": [
    "While in Python the equivalent operation could be written this way:"
   ]
  },
  {
   "cell_type": "code",
   "execution_count": 7,
   "metadata": {},
   "outputs": [],
   "source": [
    "# Python code\n",
    "result = 0\n",
    "for i in range(100):\n",
    "    result += i"
   ]
  },
  {
   "cell_type": "markdown",
   "metadata": {},
   "source": [
    "Notice the main difference: in C, the data types of each variable are explicitly declared, while in Python the types are dynamically inferred. This means, for example, that we can assign any kind of data to any variable"
   ]
  },
  {
   "cell_type": "markdown",
   "metadata": {},
   "source": [
    "# A Python Integer Is More Than Just an Integer"
   ]
  },
  {
   "cell_type": "markdown",
   "metadata": {},
   "source": [
    "The standard Python implementation is written in C. This means that every Python object is simply a cleverly-disguised C structure, which contains not only its value, but other information as well. For example, when we define an integer in Python, such as x = 10000, x is not just a \"raw\" integer. It's actually a pointer to a compound C structure, which contains several values. Looking through the Python 3.4 source code, we find that the integer (long) type definition effectively looks like this (once the C macros are expanded):"
   ]
  },
  {
   "cell_type": "code",
   "execution_count": 8,
   "metadata": {},
   "outputs": [
    {
     "ename": "SyntaxError",
     "evalue": "invalid syntax (<ipython-input-8-c7e6b3212599>, line 1)",
     "output_type": "error",
     "traceback": [
      "\u001b[1;36m  File \u001b[1;32m\"<ipython-input-8-c7e6b3212599>\"\u001b[1;36m, line \u001b[1;32m1\u001b[0m\n\u001b[1;33m    struct _longobject {\u001b[0m\n\u001b[1;37m                     ^\u001b[0m\n\u001b[1;31mSyntaxError\u001b[0m\u001b[1;31m:\u001b[0m invalid syntax\n"
     ]
    }
   ],
   "source": [
    "struct _longobject {\n",
    "    long ob_refcnt;\n",
    "    PyTypeObject *ob_type;\n",
    "    size_t ob_size;\n",
    "    long ob_digit[1];\n",
    "};"
   ]
  },
  {
   "cell_type": "markdown",
   "metadata": {},
   "source": [
    "A single integer in Python 3.4 actually contains four pieces:\n",
    "\n",
    "ob_refcnt, a reference count that helps Python silently handle memory allocation and deallocation\n",
    "ob_type, which encodes the type of the variable\n",
    "ob_size, which specifies the size of the following data members\n",
    "ob_digit, which contains the actual integer value that we expect the Python variable to represent."
   ]
  },
  {
   "cell_type": "markdown",
   "metadata": {},
   "source": [
    "# Creating Arrays from Python Lists"
   ]
  },
  {
   "cell_type": "code",
   "execution_count": 9,
   "metadata": {},
   "outputs": [
    {
     "data": {
      "text/plain": [
       "array([1, 4, 2, 5, 3])"
      ]
     },
     "execution_count": 9,
     "metadata": {},
     "output_type": "execute_result"
    }
   ],
   "source": [
    "# integer array:\n",
    "np.array([1, 4, 2, 5, 3])"
   ]
  },
  {
   "cell_type": "code",
   "execution_count": 10,
   "metadata": {},
   "outputs": [
    {
     "data": {
      "text/plain": [
       "array([1., 2., 3., 4.], dtype=float32)"
      ]
     },
     "execution_count": 10,
     "metadata": {},
     "output_type": "execute_result"
    }
   ],
   "source": [
    "np.array([1, 2, 3, 4], dtype='float32')"
   ]
  },
  {
   "cell_type": "code",
   "execution_count": 11,
   "metadata": {},
   "outputs": [
    {
     "data": {
      "text/plain": [
       "array([[2, 3, 4],\n",
       "       [4, 5, 6],\n",
       "       [6, 7, 8]])"
      ]
     },
     "execution_count": 11,
     "metadata": {},
     "output_type": "execute_result"
    }
   ],
   "source": [
    "# nested lists result in multi-dimensional arrays\n",
    "np.array([range(i, i + 3) for i in [2, 4, 6]])"
   ]
  },
  {
   "cell_type": "code",
   "execution_count": 13,
   "metadata": {},
   "outputs": [
    {
     "data": {
      "text/plain": [
       "array([0, 0, 0, 0, 0, 0, 0, 0, 0, 0])"
      ]
     },
     "execution_count": 13,
     "metadata": {},
     "output_type": "execute_result"
    }
   ],
   "source": [
    "np.zeros(10, dtype=int)"
   ]
  },
  {
   "cell_type": "code",
   "execution_count": 15,
   "metadata": {},
   "outputs": [
    {
     "data": {
      "text/plain": [
       "array([[1., 1., 1., 1., 1.],\n",
       "       [1., 1., 1., 1., 1.],\n",
       "       [1., 1., 1., 1., 1.]])"
      ]
     },
     "execution_count": 15,
     "metadata": {},
     "output_type": "execute_result"
    }
   ],
   "source": [
    "np.ones((3, 5), dtype=float)"
   ]
  },
  {
   "cell_type": "code",
   "execution_count": null,
   "metadata": {},
   "outputs": [],
   "source": [
    "import random"
   ]
  },
  {
   "cell_type": "code",
   "execution_count": 17,
   "metadata": {},
   "outputs": [
    {
     "data": {
      "text/plain": [
       "array([[40, 40, 40, 40, 40],\n",
       "       [40, 40, 40, 40, 40],\n",
       "       [40, 40, 40, 40, 40]])"
      ]
     },
     "execution_count": 17,
     "metadata": {},
     "output_type": "execute_result"
    }
   ],
   "source": [
    "np.full((3, 5), random.randrange(20, 50, 2))"
   ]
  },
  {
   "cell_type": "code",
   "execution_count": 16,
   "metadata": {},
   "outputs": [
    {
     "name": "stdout",
     "output_type": "stream",
     "text": [
      "A random number from list is : 3\n",
      "A random number from range is : 20\n"
     ]
    }
   ],
   "source": [
    "import random \n",
    "  \n",
    "# using choice() to generate a random number from a  \n",
    "# given list of numbers. \n",
    "print (\"A random number from list is : \",end=\"\") \n",
    "print (random.choice([1, 4, 8, 10, 3])) \n",
    "  \n",
    "# using randrange() to generate in range from 20 \n",
    "# to 50. The last parameter 3 is step size to skip \n",
    "# three numbers when selecting. \n",
    "print (\"A random number from range is : \",end=\"\") \n",
    "print (random.randrange(20, 50, 3)) "
   ]
  },
  {
   "cell_type": "code",
   "execution_count": 21,
   "metadata": {},
   "outputs": [
    {
     "data": {
      "text/plain": [
       "array([ 0,  2,  4,  6,  8, 10, 12, 14, 16, 18])"
      ]
     },
     "execution_count": 21,
     "metadata": {},
     "output_type": "execute_result"
    }
   ],
   "source": [
    "np.arange(0, 20, 2)"
   ]
  },
  {
   "cell_type": "code",
   "execution_count": 22,
   "metadata": {},
   "outputs": [
    {
     "data": {
      "text/plain": [
       "array([0.  , 0.25, 0.5 , 0.75, 1.  ])"
      ]
     },
     "execution_count": 22,
     "metadata": {},
     "output_type": "execute_result"
    }
   ],
   "source": [
    "np.linspace(0, 1, 5)"
   ]
  },
  {
   "cell_type": "code",
   "execution_count": 23,
   "metadata": {},
   "outputs": [
    {
     "data": {
      "text/plain": [
       "array([[0.48877693, 0.66009994, 0.3959971 ],\n",
       "       [0.43346735, 0.70072221, 0.75265391],\n",
       "       [0.65288053, 0.67066497, 0.4213738 ]])"
      ]
     },
     "execution_count": 23,
     "metadata": {},
     "output_type": "execute_result"
    }
   ],
   "source": [
    "np.random.random((3, 3))"
   ]
  },
  {
   "cell_type": "code",
   "execution_count": 24,
   "metadata": {},
   "outputs": [
    {
     "data": {
      "text/plain": [
       "array([[ 0.19428923, -1.54538447,  0.76676444],\n",
       "       [ 0.17192528, -2.50085501, -1.22549957],\n",
       "       [ 0.16595476,  1.45814856, -0.14191227]])"
      ]
     },
     "execution_count": 24,
     "metadata": {},
     "output_type": "execute_result"
    }
   ],
   "source": [
    "# Create a 3x3 array of normally distributed random values\n",
    "# with mean 0 and standard deviation 1\n",
    "np.random.normal(0, 1, (3, 3))"
   ]
  },
  {
   "cell_type": "markdown",
   "metadata": {},
   "source": [
    "# Variance and standard-deviation of a matrix"
   ]
  },
  {
   "cell_type": "markdown",
   "metadata": {},
   "source": [
    "Mean is average of a given set of data. Let us consider below example\n",
    "\n",
    " 2,\\ 4,\\ 4,\\ 4,\\ 5,\\ 5,\\ 7,\\ 9 \n",
    "\n",
    "These eight data points have the mean (average) of 5:\n",
    "\n",
    " \\frac{2 + 4 + 4 + 4 + 5 + 5 + 7 + 9}{8} = 5. \n",
    "\n",
    " \n",
    "Variance is sum of squares of differences between all numbers and means.\n",
    "Deviation for above example. First, calculate the deviations of each data point from the mean, and square the result of each:\n",
    "\n",
    "\n",
    "\n",
    " \\begin{array}{lll} (2-5)^2 = (-3)^2 = 9 && (5-5)^2 = 0^2 = 0 \\\\ (4-5)^2 = (-1)^2 = 1 && (5-5)^2 = 0^2 = 0 \\\\ (4-5)^2 = (-1)^2 = 1 && (7-5)^2 = 2^2 = 4 \\\\ (4-5)^2 = (-1)^2 = 1 && (9-5)^2 = 4^2 = 16. \\\\ \\end{array} \n",
    "\n",
    "variance = \\frac{9 + 1 + 1 + 1 + 0 + 0 + 4 + 16}{8} = 4.\n",
    "\n",
    " \n",
    "Standard Deviation is square root of variance. It is a measure of the extent to which data varies from the mean.\n",
    "\n",
    "Standard Deviation (for above data) = \\sqrt{ 4 } = 2\n",
    "Mean is average of a given set of data. Let us consider below example\n",
    "\n",
    " 2,\\ 4,\\ 4,\\ 4,\\ 5,\\ 5,\\ 7,\\ 9 \n",
    "\n",
    "These eight data points have the mean (average) of 5:\n",
    "\n",
    " \\frac{2 + 4 + 4 + 4 + 5 + 5 + 7 + 9}{8} = 5. \n",
    "\n",
    " \n",
    "Variance is sum of squares of differences between all numbers and means.\n",
    "Deviation for above example. First, calculate the deviations of each data point from the mean, and square the result of each:\n",
    "\n",
    "\n",
    "\n",
    " \\begin{array}{lll} (2-5)^2 = (-3)^2 = 9 && (5-5)^2 = 0^2 = 0 \\\\ (4-5)^2 = (-1)^2 = 1 && (5-5)^2 = 0^2 = 0 \\\\ (4-5)^2 = (-1)^2 = 1 && (7-5)^2 = 2^2 = 4 \\\\ (4-5)^2 = (-1)^2 = 1 && (9-5)^2 = 4^2 = 16. \\\\ \\end{array} \n",
    "\n",
    "variance = \\frac{9 + 1 + 1 + 1 + 0 + 0 + 4 + 16}{8} = 4.\n",
    "\n",
    " \n",
    "Standard Deviation is square root of variance. It is a measure of the extent to which data varies from the mean.\n",
    "\n",
    "Standard Deviation (for above data) = \\sqrt{ 4 } = 2\n",
    "\n",
    "Why did mathematicians chose square and then square root to find deviation, why not simply take difference of values?\n",
    "One reason is the sum of differences becomes 0 according to definition of mean. Sum of absolute differences could be an option, but with absolute differences it was difficult to prove many nice theorems\n",
    "Why did mathematicians chose square and then square root to find deviation, why not simply take difference of values?\n",
    "One reason is the sum of differences becomes 0 according to definition of mean. Sum of absolute differences could be an option, but with absolute differences it was difficult to prove many nice theorems"
   ]
  },
  {
   "cell_type": "markdown",
   "metadata": {},
   "source": [
    "Given a matrix of size n*n. We have to calculate variance and standard-deviation of given matrix."
   ]
  },
  {
   "cell_type": "raw",
   "metadata": {},
   "source": [
    "Input : 1 2 3\n",
    "        4 5 6\n",
    "        6 6 6 \n",
    "Output : variance: 3\n",
    "         deviation: 1\n",
    "\n",
    "Input : 1 2 3\n",
    "        4 5 6\n",
    "        7 8 9 \n",
    "Output : variance: 6\n",
    "         deviation: 2  "
   ]
  },
  {
   "cell_type": "markdown",
   "metadata": {},
   "source": [
    "First mean should be calculated by adding sum of each elements of the matrix. After calculating mean, it should be subtracted from each element of the matrix.Then square each term and find out the variance by dividing sum with total elements.\n",
    "Deviation: It is the square root of the variance."
   ]
  },
  {
   "cell_type": "raw",
   "metadata": {},
   "source": [
    "    1 2 3\n",
    "    4 5 6\n",
    "    7 8 9"
   ]
  },
  {
   "cell_type": "raw",
   "metadata": {},
   "source": [
    "# Python3 program to find mean\n",
    "# and variance of a matrix.\n",
    "import math;\n",
    "\n",
    "# variance function declaration\n",
    "# Function for calculating mean\n",
    "def mean(a, n):\n",
    "\n",
    "# Calculating sum\n",
    "sum = 0;\n",
    "for i in range(n):\n",
    "for j in range(n):\n",
    "sum += a[i][j];\n",
    "\n",
    "# Returning mean\n",
    "return math.floor(int(sum / (n * n)));\n",
    "\n",
    "# Function for calculating variance\n",
    "def variance(a, n, m):\n",
    "sum = 0;\n",
    "for i in range(n):\n",
    "for j in range(n):\n",
    "\n",
    "# subtracting mean\n",
    "# from elements\n",
    "a[i][j] -= m;\n",
    "\n",
    "# a[i][j] = fabs(a[i][j]);\n",
    "# squaring each terms\n",
    "a[i][j] *= a[i][j];\n",
    "\n",
    "# taking sum\n",
    "for i in range(n):\n",
    "for j in range(n):\n",
    "sum += a[i][j];\n",
    "\n",
    "return math.floor(int(sum / (n * n)));\n",
    "\n",
    "# Driver Code\n",
    "\n",
    "# declaring and\n",
    "# initializing matrix\n",
    "mat = [[1, 2, 3],\n",
    "[4, 5, 6],\n",
    "[7, 8, 9]];\n",
    "\n",
    "# for mean\n",
    "m = mean(mat, 3);\n",
    "\n",
    "# for variance\n",
    "var = variance(mat, 3, m);\n",
    "\n",
    "# for standard deviation\n",
    "dev = math.sqrt(var);\n",
    "\n",
    "# displaying variance\n",
    "# and deviation\n",
    "print(“Mean:”, m);\n",
    "print(“Variance:”, var);\n",
    "print(“Deviation:”, math.floor(dev));\n",
    "\n",
    "# This code is contributed by mits"
   ]
  },
  {
   "cell_type": "code",
   "execution_count": 28,
   "metadata": {},
   "outputs": [
    {
     "data": {
      "text/plain": [
       "array([[-0.17205166,  0.99509263,  1.20296718],\n",
       "       [ 0.13225688, -1.18676213, -2.03375728],\n",
       "       [-1.5384356 , -0.12300775, -0.81203762]])"
      ]
     },
     "execution_count": 28,
     "metadata": {},
     "output_type": "execute_result"
    }
   ],
   "source": [
    "# Create a 3x3 array of normally distributed random values\n",
    "# with mean 0 and standard deviation 1\n",
    "np.random.normal(0, 1, (3, 3))"
   ]
  },
  {
   "cell_type": "code",
   "execution_count": 29,
   "metadata": {},
   "outputs": [
    {
     "data": {
      "text/plain": [
       "array([[1., 0., 0.],\n",
       "       [0., 1., 0.],\n",
       "       [0., 0., 1.]])"
      ]
     },
     "execution_count": 29,
     "metadata": {},
     "output_type": "execute_result"
    }
   ],
   "source": [
    "# Create a 3x3 identity matrix\n",
    "np.eye(3)"
   ]
  },
  {
   "cell_type": "code",
   "execution_count": 30,
   "metadata": {},
   "outputs": [
    {
     "data": {
      "text/plain": [
       "array([1., 1., 1.])"
      ]
     },
     "execution_count": 30,
     "metadata": {},
     "output_type": "execute_result"
    }
   ],
   "source": [
    "# Create an uninitialized array of three integers\n",
    "# The values will be whatever happens to already exist at that memory location\n",
    "np.empty(3)"
   ]
  },
  {
   "cell_type": "markdown",
   "metadata": {},
   "source": [
    "# NumPy Standard Data Types"
   ]
  },
  {
   "cell_type": "markdown",
   "metadata": {},
   "source": [
    "NumPy Standard Data Types"
   ]
  },
  {
   "cell_type": "code",
   "execution_count": 32,
   "metadata": {},
   "outputs": [
    {
     "data": {
      "text/plain": [
       "array([0, 0, 0, 0, 0, 0, 0, 0, 0, 0], dtype=int16)"
      ]
     },
     "execution_count": 32,
     "metadata": {},
     "output_type": "execute_result"
    }
   ],
   "source": [
    "np.zeros(10, dtype='int16')"
   ]
  },
  {
   "cell_type": "raw",
   "metadata": {},
   "source": [
    "Data type\tDescription\n",
    "bool_\tBoolean (True or False) stored as a byte\n",
    "int_\tDefault integer type (same as C long; normally either int64 or int32)\n",
    "intc\tIdentical to C int (normally int32 or int64)\n",
    "intp\tInteger used for indexing (same as C ssize_t; normally either int32 or int64)\n",
    "int8\tByte (-128 to 127)\n",
    "int16\tInteger (-32768 to 32767)\n",
    "int32\tInteger (-2147483648 to 2147483647)\n",
    "int64\tInteger (-9223372036854775808 to 9223372036854775807)\n",
    "uint8\tUnsigned integer (0 to 255)\n",
    "uint16\tUnsigned integer (0 to 65535)\n",
    "uint32\tUnsigned integer (0 to 4294967295)\n",
    "uint64\tUnsigned integer (0 to 18446744073709551615)\n",
    "float_\tShorthand for float64.\n",
    "float16\tHalf precision float: sign bit, 5 bits exponent, 10 bits mantissa\n",
    "float32\tSingle precision float: sign bit, 8 bits exponent, 23 bits mantissa\n",
    "float64\tDouble precision float: sign bit, 11 bits exponent, 52 bits mantissa\n",
    "complex_\tShorthand for complex128.\n",
    "complex64\tComplex number, represented by two 32-bit floats\n",
    "complex128\tComplex number, represented by two 64-bit floats"
   ]
  },
  {
   "cell_type": "code",
   "execution_count": null,
   "metadata": {},
   "outputs": [],
   "source": []
  }
 ],
 "metadata": {
  "kernelspec": {
   "display_name": "Python 3",
   "language": "python",
   "name": "python3"
  },
  "language_info": {
   "codemirror_mode": {
    "name": "ipython",
    "version": 3
   },
   "file_extension": ".py",
   "mimetype": "text/x-python",
   "name": "python",
   "nbconvert_exporter": "python",
   "pygments_lexer": "ipython3",
   "version": "3.6.4"
  }
 },
 "nbformat": 4,
 "nbformat_minor": 2
}
